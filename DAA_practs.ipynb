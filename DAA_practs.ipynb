{
 "cells": [
  {
   "cell_type": "code",
   "execution_count": 2,
   "id": "8f7a7090-024c-41bb-9db1-dd1a7d8f2301",
   "metadata": {},
   "outputs": [
    {
     "name": "stdout",
     "output_type": "stream",
     "text": [
      "Maximum value: 220\n",
      "Selected items: [2, 1]\n"
     ]
    }
   ],
   "source": [
    "##0-1 knapsack\n",
    "def knapsack_01(n, values, weights, W):\n",
    "    dp = [[0] * (W+1) for _ in range(n+1)]\n",
    "\n",
    "    for i in range(n+1):\n",
    "        for w in range(W+1):\n",
    "            if i == 0 or w == 0:\n",
    "                dp[i][w] = 0\n",
    "            elif weights[i-1] <= w:\n",
    "                dp[i][w] = max(dp[i-1][w], dp[i-1][w-weights[i-1]] + values[i-1])\n",
    "            else:\n",
    "                dp[i][w] = dp[i-1][w]\n",
    "    \n",
    "    selected_items = []\n",
    "    i, w = n, W\n",
    "    while i > 0 and w > 0:\n",
    "        if dp[i][w] != dp[i-1][w]:\n",
    "            selected_items.append(i-1)\n",
    "            w -= weights[i-1]\n",
    "        i -= 1\n",
    "    \n",
    "    return dp[n][W], selected_items\n",
    "\n",
    "if __name__ == \"__main__\":\n",
    "    n = 3\n",
    "    values = [60, 100, 120]\n",
    "    weights = [10, 20, 30]\n",
    "    W = 50\n",
    "\n",
    "    max_value, selected_items = knapsack_01(n, values, weights, W)\n",
    "    print(\"Maximum value:\", max_value)\n",
    "    print(\"Selected items:\", selected_items)"
   ]
  },
  {
   "cell_type": "code",
   "execution_count": 4,
   "id": "2011ced3-8194-416c-8377-b4418e6eda21",
   "metadata": {},
   "outputs": [
    {
     "name": "stdin",
     "output_type": "stream",
     "text": [
      "Enter number of items-\n",
      " 3\n",
      "Enter profit of item 1-\n",
      " 1\n",
      "Enter weight of item 1-\n",
      " 2\n",
      "Enter profit of item 2-\n",
      " 1\n",
      "Enter weight of item 2-\n",
      " 3\n",
      "Enter profit of item 3-\n",
      " 4\n",
      "Enter weight of item 3-\n",
      " 5\n",
      "Enter capacity of knapsack-\n",
      " 6\n"
     ]
    },
    {
     "name": "stdout",
     "output_type": "stream",
     "text": [
      "Maximum value in knapsack:  4.5\n"
     ]
    }
   ],
   "source": [
    "##fract_knapsack\n",
    "class Item:\n",
    "    def __init__(self, profit, weight):\n",
    "        self.profit = profit\n",
    "        self.weight = weight\n",
    "\n",
    "def fractionalKnapsack(w, arr):\n",
    "    arr.sort(key=lambda x: x.profit/x.weight, reverse=True)\n",
    "    finalValue = 0.0\n",
    "    for item in arr:\n",
    "        if w >= item.weight:\n",
    "            finalValue += item.profit\n",
    "            w -= item.weight\n",
    "        else:\n",
    "            finalValue += item.profit * (w/item.weight)\n",
    "            break\n",
    "    return finalValue\n",
    "\n",
    "if __name__ == \"__main__\":\n",
    "    n = int(input(\"Enter number of items-\\n\"))\n",
    "    arr = []\n",
    "    for i in range(n):\n",
    "        profit = int(input(\"Enter profit of item \" + str(i + 1) + \"-\\n\"))\n",
    "        weight = int(input(\"Enter weight of item \" + str(i + 1) + \"-\\n\"))\n",
    "        arr.append(Item(profit, weight))\n",
    "    w = int(input(\"Enter capacity of knapsack-\\n\"))\n",
    "    print(\"Maximum value in knapsack: \", fractionalKnapsack(w, arr))"
   ]
  },
  {
   "cell_type": "code",
   "execution_count": 7,
   "id": "6a1d6b60-d8fd-4ebf-b36b-73ce6106fe45",
   "metadata": {},
   "outputs": [
    {
     "name": "stdin",
     "output_type": "stream",
     "text": [
      "Enter the value of N:  8\n"
     ]
    },
    {
     "name": "stdout",
     "output_type": "stream",
     "text": [
      "Solution found:\n",
      "Q . . . . . . .\n",
      ". . . . . . Q .\n",
      ". . . . Q . . .\n",
      ". . . . . . . Q\n",
      ". Q . . . . . .\n",
      ". . . Q . . . .\n",
      ". . . . . Q . .\n",
      ". . Q . . . . .\n"
     ]
    }
   ],
   "source": [
    "##n-queens\n",
    "def is_safe(board, row, col, n):\n",
    "    # Check the left side of the current column\n",
    "    for i in range(col):\n",
    "        if board[row][i] == 1:\n",
    "            return False\n",
    "        \n",
    "    # Check upper diagonal on the left side\n",
    "    for i, j in zip(range(row, -1, -1), range(col, -1, -1)):\n",
    "        if board[i][j] == 1:\n",
    "            return False\n",
    "\n",
    "    # Check lower diagonal on the left side\n",
    "    for i, j in zip(range(row, n, 1), range(col, -1, -1)):\n",
    "        if board[i][j] == 1:\n",
    "            return False\n",
    "\n",
    "    return True\n",
    "\n",
    "def solve_n_queens(board, col, n):\n",
    "    if col >= n:\n",
    "        return True\n",
    "\n",
    "    for i in range(n):\n",
    "        if is_safe(board, i, col, n):\n",
    "            board[i][col] = 1\n",
    "\n",
    "            if solve_n_queens(board, col + 1, n):\n",
    "                return True\n",
    "\n",
    "            board[i][col] = 0\n",
    "        # print(\"I \", i, col)\n",
    "    return False\n",
    "\n",
    "def print_board(board):\n",
    "    for row in board:\n",
    "        print(\" \".join([\"Q\" if x else \".\" for x in row]))\n",
    "\n",
    "def main():\n",
    "    n = int(input(\"Enter the value of N: \"))\n",
    "    board = [[0 for _ in range(n)] for _ in range(n)]\n",
    "\n",
    "   \n",
    "    if solve_n_queens(board, 0, n):\n",
    "        print(\"Solution found:\")\n",
    "        print_board(board)\n",
    "    else:\n",
    "        print(\"No solution exists.\")\n",
    "\n",
    "if __name__ == \"__main__\":\n",
    "    main()\n"
   ]
  },
  {
   "cell_type": "code",
   "execution_count": 8,
   "id": "c030e47a-6d43-4705-970a-795f2798271d",
   "metadata": {},
   "outputs": [
    {
     "name": "stdin",
     "output_type": "stream",
     "text": [
      "Enter a number:  8\n"
     ]
    },
    {
     "name": "stdout",
     "output_type": "stream",
     "text": [
      "Iterative: 21\n",
      "Steps: 8\n",
      "Recursive: 21\n",
      "Steps: 67\n"
     ]
    }
   ],
   "source": [
    "##fibonacci-geto\n",
    "def fibonacci_iter(n):\n",
    "    if n < 0:\n",
    "        return -1, 1\n",
    "    if n == 0 or n == 1:\n",
    "        return n, 1\n",
    "    steps = 0\n",
    "    a = 0\n",
    "    b = 1\n",
    "    for i in range(2, n+1):\n",
    "        c = a + b\n",
    "        a = b\n",
    "        b = c\n",
    "        steps += 1\n",
    "    return c, steps+1\n",
    "\n",
    "def fibonacci_recur(n):\n",
    "    if n < 0:\n",
    "        return -1, 1\n",
    "    if n == 0 or n == 1:\n",
    "        return n, 1\n",
    "    fib1, steps1 = fibonacci_recur(n-1)\n",
    "    fib2, steps2 = fibonacci_recur(n-2)\n",
    "    return fib1 + fib2, steps1 + steps2 + 1\n",
    "\n",
    "if __name__ == '__main__':\n",
    "    n = int(input(\"Enter a number: \"))\n",
    "    print(\"Iterative:\", fibonacci_iter(n)[0])\n",
    "    print(\"Steps:\", fibonacci_iter(n)[1])\n",
    "    print(\"Recursive:\", fibonacci_recur(n)[0])\n",
    "    print(\"Steps:\", fibonacci_recur(n)[1])"
   ]
  },
  {
   "cell_type": "code",
   "execution_count": null,
   "id": "8eaf5d52-5585-4191-9aed-1d6f1949775f",
   "metadata": {},
   "outputs": [],
   "source": []
  }
 ],
 "metadata": {
  "kernelspec": {
   "display_name": "Python 3 (ipykernel)",
   "language": "python",
   "name": "python3"
  },
  "language_info": {
   "codemirror_mode": {
    "name": "ipython",
    "version": 3
   },
   "file_extension": ".py",
   "mimetype": "text/x-python",
   "name": "python",
   "nbconvert_exporter": "python",
   "pygments_lexer": "ipython3",
   "version": "3.10.12"
  }
 },
 "nbformat": 4,
 "nbformat_minor": 5
}
